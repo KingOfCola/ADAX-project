{
 "cells": [
  {
   "cell_type": "markdown",
   "metadata": {
    "collapsed": true
   },
   "source": [
    "# Parsing the data"
   ]
  },
  {
   "cell_type": "markdown",
   "metadata": {},
   "source": [
    "## Code labels (Libellé des codages)"
   ]
  },
  {
   "cell_type": "code",
   "execution_count": 6,
   "metadata": {
    "collapsed": true
   },
   "outputs": [],
   "source": [
    "# Imports\n",
    "import numpy as np\n",
    "import re"
   ]
  },
  {
   "cell_type": "code",
   "execution_count": 27,
   "metadata": {
    "collapsed": false
   },
   "outputs": [],
   "source": [
    "labelsFilename = \"../data/correspondance_reponses.txt\"\n",
    "labelsFile = open(labelsFilename, \"r\")\n",
    "\n",
    "labels = {}\n",
    "labelNameRE = re.compile(\"^(?P<labelName>[a-z]\\w*):\\s*$\")\n",
    "codeRE = re.compile(\"^(?P<code>\\d+)\\s(?P<meaning>.+)$\")"
   ]
  },
  {
   "cell_type": "code",
   "execution_count": 29,
   "metadata": {
    "collapsed": false
   },
   "outputs": [
    {
     "name": "stdout",
     "output_type": "stream",
     "text": [
      "a5gglo    :   5\n",
      "a9gglo    :   9\n",
      "achpub    :   5\n",
      "actifeps  :  10\n",
      "age       :   8\n",
      "agechef   :   5\n",
      "aime      :   7\n",
      "autcant   :   7\n",
      "autdist   :   9\n",
      "autinfo   :   9\n",
      "autintal  :  17\n",
      "autreg    :  12\n",
      "autregme  :  20\n",
      "b11f      :  10\n",
      "b12f      :  12\n",
      "b22f      :   2\n",
      "b39cig1f  :   3\n",
      "b39cig2f  :   7\n",
      "c11lassb  :  15\n",
      "c15lassb  :  14\n",
      "c3lassb   :  14\n",
      "cantine   :   9\n",
      "cible     :   4\n",
      "colmata   :   8\n",
      "colmatb   :   7\n",
      "consocru  :   8\n",
      "consult   :   6\n",
      "cuiviand  :   8\n",
      "cycle     :   7\n",
      "diplome   :  14\n",
      "distrib   :   8\n",
      "dlc       :   9\n",
      "echant    :   2\n",
      "ecolea    :   5\n",
      "enrichis  :   7\n",
      "entrerep  :   9\n",
      "eps       :   5\n",
      "essai     :   6\n",
      "etiquet   :   6\n",
      "fastfood  :  10\n",
      "groupe    :  44\n",
      "habitat   :   4\n",
      "habitude  :   4\n",
      "ipaqf     :   3\n",
      "intalim   :   7\n",
      "lienchef  :   6\n",
      "lienchfb  :   9\n",
      "lienenfb  :   6\n",
      "lieudej   :  14\n",
      "matrim    :   6\n",
      "onref     :   3\n",
      "onsp      :   6\n",
      "opipoids  :   5\n",
      "pasecole  :   4\n",
      "paysb     : 173\n",
      "pcs       :  20\n",
      "pub       :   7\n",
      "raisonff  :   6\n",
      "recre     :   4\n",
      "regf      :   8\n",
      "region    :  21\n",
      "saisonf   :   4\n",
      "sel       :   6\n",
      "sexe      :   2\n",
      "situprof  :   8\n",
      "statemp   :   8\n",
      "statnutf  :   3\n",
      "tabac     :   6\n",
      "transp    :   6\n",
      "travnuit  :   5\n",
      "tsrj      :   7\n",
      "typempla  :   9\n",
      "typlait   :   8\n",
      "typsuc    :   8\n",
      "voeupoid  :   5\n",
      "zeat      :   7\n",
      "nojour    :   7\n",
      "norep     :   6\n",
      "orialiA   :   5\n",
      "orialiB   :   4\n",
      "ouinon    :   2\n",
      "avecqui   :   5\n",
      "lieu      :   7\n",
      "priserep  :   3\n",
      "alimcru   :   6\n",
      "claim     :   6\n",
      "diplomeb  :  15\n",
      "eaupuits  :   6\n",
      "frqtrait  :   7\n",
      "inquiet   :   6\n",
      "instruc   :   7\n",
      "logement  :   7\n",
      "micronde  :   8\n",
      "nbrepas   :   7\n",
      "nbtele    :   5\n",
      "nbvoit    :   4\n",
      "nonembal  :   7\n",
      "pcschef   :   8\n",
      "platcuis  :   8\n",
      "prodanx   :   5\n",
      "revenu    :  15\n",
      "salage    :   8\n",
      "saliere   :   8\n",
      "selcrud   :   8\n",
      "situali   :   5\n",
      "situfin   :   7\n",
      "stokcons  :   6\n",
      "temp      :  17\n",
      "thermo    :   4\n",
      "traiteau  :   6\n",
      "typemplb  :  10\n",
      "typesel   :   7\n",
      "butadcanew:   8\n",
      "motivcanew:  13\n",
      "curecabis :  18\n",
      "lieuca    :  10\n",
      "presca    :  14\n"
     ]
    }
   ],
   "source": [
    "for line in labelsFile.readlines():\n",
    "    line = line[:-1]\n",
    "    labelNameMatches = labelNameRE.match(line)\n",
    "    codeMatches = codeRE.match(line)\n",
    "    if (labelNameMatches != None):\n",
    "        labelName = labelNameMatches.group(\"labelName\")\n",
    "        labels[labelName] = {}\n",
    "    if (codeMatches != None):\n",
    "        code = codeMatches.group(\"code\")\n",
    "        meaning = codeMatches.group(\"meaning\")\n",
    "        if (code in labels[labelName] and labels[labelName][code] != meaning):\n",
    "            print(\"Code '{}' is already set with meaning '{}'. Trying to add meaning '{}'\".format(code, labels[labelName][code], meaning))\n",
    "        labels[labelName][code] = meaning\n",
    "\n",
    "for (labelName, codes) in labels.items():\n",
    "    print(\"{: <10}: {: >3}\".format(labelName, len(codes)))"
   ]
  },
  {
   "cell_type": "code",
   "execution_count": 33,
   "metadata": {
    "collapsed": false
   },
   "outputs": [
    {
     "name": "stdout",
     "output_type": "stream",
     "text": [
      "1105 label + code correspondances parsed\n"
     ]
    }
   ],
   "source": [
    "labelsFile.close()\n",
    "labelsFileCSV = open(labelsFilename[:-3]+\"csv\", \"w\")\n",
    "labelsFileCSV.write(\";\".join([\"Code label\", \"code\", \"Meaning\"]) + \"\\n\")\n",
    "n = 0\n",
    "for (labelName, codes) in labels.items():\n",
    "    for (code, meaning) in codes.items():\n",
    "        labelsFileCSV.write(\";\".join([labelName, code, meaning]) + \"\\n\")\n",
    "        n += 1\n",
    "print(\"{} label + code correspondances parsed\".format(n))\n",
    "labelsFileCSV.close()"
   ]
  }
 ],
 "metadata": {
  "kernelspec": {
   "display_name": "Python 3",
   "language": "python",
   "name": "python3"
  },
  "language_info": {
   "codemirror_mode": {
    "name": "ipython",
    "version": 3
   },
   "file_extension": ".py",
   "mimetype": "text/x-python",
   "name": "python",
   "nbconvert_exporter": "python",
   "pygments_lexer": "ipython3",
   "version": "3.6.6"
  }
 },
 "nbformat": 4,
 "nbformat_minor": 2
}
