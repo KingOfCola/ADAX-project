{
 "cells": [
  {
   "cell_type": "markdown",
   "metadata": {},
   "source": [
    "# Food: a relevant marker of social inequalities?"
   ]
  },
  {
   "cell_type": "code",
   "execution_count": 8,
   "metadata": {
    "collapsed": true
   },
   "outputs": [],
   "source": [
    "# Imports\n",
    "from urllib.request import urlopen\n",
    "import pandas as pd\n",
    "import json\n",
    "import matplotlib.pyplot as plt\n",
    "import numpy as np\n",
    "\n",
    "import warnings\n",
    "# Uncomment to hide Warnings\n",
    "#warnings.filterwarnings('ignore')\n",
    "\n",
    "import os\n",
    "import pyspark\n",
    "from pyspark.sql import *\n",
    "from pyspark.sql.functions import *"
   ]
  },
  {
   "cell_type": "markdown",
   "metadata": {},
   "source": [
    "## Study of OpenFoodFact"
   ]
  },
  {
   "cell_type": "markdown",
   "metadata": {},
   "source": [
    "### Data cleaning"
   ]
  },
  {
   "cell_type": "code",
   "execution_count": 13,
   "metadata": {
    "collapsed": true
   },
   "outputs": [],
   "source": [
    "# Data\n",
    "OFF_API_PATH = \"https://world.openfoodfacts.org/{}.json\"\n",
    "OFF_API_QUERY_PATH = \"https://world.openfoodfacts.org/cgi/search.pl?{}&page_size=1000&action=process&json=1\"\n",
    "\n",
    "def getOFFDataFrame(adress, path = OFF_API_PATH):\n",
    "    \"\"\"\n",
    "    Queries OFF database with local adress contained in adress. Formatting url is contained in path.\n",
    "    \"\"\"\n",
    "    result = json.load(urlopen(path.format(adress)))\n",
    "    print(\"{} entries gathered\".format(result[\"count\"]))\n",
    "    if \"products\" in result:\n",
    "        return pd.DataFrame(result[\"products\"])\n",
    "    return pd.DataFrame(result[\"tags\"])\n",
    "\n",
    "def getOFFDataFrameDict(qdict):\n",
    "    \"\"\"\n",
    "    Gathers OFF dataframe with query contained in dictionary qdict.\n",
    "    \"\"\"\n",
    "    q = \"&\".join([\"{}={}\".format(key, value) for key, value in qdict.items()])\n",
    "    return getOFFDataFrame(q, OFF_API_QUERY_PATH)\n",
    "\n",
    "def getOFFDataFrameCat(tags=[], nutriments=[], **kwargs):\n",
    "    \"\"\"\n",
    "    Queries the OFF data base with query informations contained in tags and nutriments. \n",
    "    <ul>\n",
    "        <li>Tags should be a list of lists of shape: \n",
    "        [tag, value, &lt;conatins&gt;] where tag is the category of tag (ex. \"brands\") and value, the value to \n",
    "        be searched (ex. \"Carrefour\")</li>\n",
    "        <li>Nutriments should be a list of lists of shape: [nutriment, comparison, value] where nutriment is the name of the nutriment to be \n",
    "        searched (ex. \"magnesium\"), comparison the nature of the comparison (ex. \"lte\") and \n",
    "        value the value to be compared with (ex. 50)</li>\n",
    "    </ul>\n",
    "    \"\"\"\n",
    "    qdict = {}\n",
    "    for i, tagsEl in enumerate(tags):\n",
    "        if len(tagsEl) == 2:\n",
    "            contains = True\n",
    "        else:\n",
    "            contains = tagsEl[2]\n",
    "        qdict[\"tagtype_{}\".format(i)] = tagsEl[0]\n",
    "        qdict[\"tag_contains_{}\".format(i)] = [\"does_not_contain\",\"contains\"][int(contains)]\n",
    "        qdict[\"tag_{}\".format(i)] = tagsEl[1]\n",
    "    for i, nutrimentsEl in enumerate(nutriments):\n",
    "        qdict[\"nutriment_{}\".format(i)] = nutrimentsEl[0]\n",
    "        qdict[\"nutriment_compare_{}\".format(i)] = nutrimentsEl[1]\n",
    "        qdict[\"nutriment_value_{}\".format(i)] = nutrimentsEl[2]\n",
    "        nutriment_i += 1\n",
    "    qdict.update(kwargs)\n",
    "    return getOFFDataFrameDict(qdict)\n"
   ]
  },
  {
   "cell_type": "markdown",
   "metadata": {},
   "source": [
    "### Data formating"
   ]
  },
  {
   "cell_type": "code",
   "execution_count": null,
   "metadata": {
    "collapsed": true
   },
   "outputs": [],
   "source": []
  },
  {
   "cell_type": "markdown",
   "metadata": {},
   "source": [
    "### Data analysis and visualization"
   ]
  },
  {
   "cell_type": "code",
   "execution_count": null,
   "metadata": {
    "collapsed": true
   },
   "outputs": [],
   "source": []
  },
  {
   "cell_type": "markdown",
   "metadata": {},
   "source": [
    "## Study of INCA 2"
   ]
  },
  {
   "cell_type": "markdown",
   "metadata": {},
   "source": [
    "### Data cleaning"
   ]
  },
  {
   "cell_type": "code",
   "execution_count": 7,
   "metadata": {
    "collapsed": false
   },
   "outputs": [
    {
     "name": "stdout",
     "output_type": "stream",
     "text": [
      "Windows\n"
     ]
    }
   ],
   "source": [
    "# Data\n",
    "import platform\n",
    "\n",
    "# Comment/Uncomment the line depending on your computer\n",
    "plat = platform.system()\n",
    "print(plat)\n",
    "if plat ==\"Windows\":\n",
    "    encoding = \"ansi\" # Windows\n",
    "elif plat ==\"Darwin\":\n",
    "    encoding = \"latin\" # Mac\n",
    "else:\n",
    "    raise ValueError(\"unknown os: {}\".format(plat))\n",
    "\n",
    "DATA_PATH = \"data/{}.csv\"\n",
    "\n",
    "dfConso = pd.read_csv(DATA_PATH.format(\"Table_conso\"), sep=\";\", encoding=encoding)\n",
    "dfIndiv = pd.read_csv(DATA_PATH.format(\"Table_indiv\"), sep=\";\", encoding=encoding)\n",
    "dfCapiCA = pd.read_csv(DATA_PATH.format(\"Table_capi_ca\"), sep=\";\", encoding=encoding)\n",
    "dfCarnetCA = pd.read_csv(DATA_PATH.format(\"Table_carnet_ca_1\"), sep=\";\", encoding=encoding)\n",
    "dfIndivCA = pd.read_csv(DATA_PATH.format(\"Table_indiv_ca\"), sep=\";\", encoding=encoding)\n",
    "dfIndnut = pd.read_csv(DATA_PATH.format(\"Table_indnut\"), sep=\";\", encoding=encoding)\n",
    "dfMenage = pd.read_csv(DATA_PATH.format(\"Table_menage_1\"), sep=\";\", encoding=encoding)\n",
    "dfRepas = pd.read_csv(DATA_PATH.format(\"Table_repas\"), sep=\";\", encoding=encoding)\n",
    "dfNomenclature = pd.read_csv(DATA_PATH.format(\"Nomenclature_3\"), sep=\";\", encoding=encoding)\n",
    "dfCorrespondance = pd.read_csv(DATA_PATH.format(\"correspondance_reponses\"), sep=\";\", encoding=encoding)\n",
    "dfDataNames = pd.read_csv(DATA_PATH.format(\"Data_names_all\"), sep=\";\", encoding=encoding)"
   ]
  },
  {
   "cell_type": "markdown",
   "metadata": {},
   "source": [
    "### Data formating"
   ]
  },
  {
   "cell_type": "code",
   "execution_count": null,
   "metadata": {
    "collapsed": true
   },
   "outputs": [],
   "source": [
    "def findCorrespondance(val, column):\n",
    "    \"\"\"\n",
    "    Returns the correspondance of the numerical val for the corresponding column.\n",
    "    \"\"\"\n",
    "    try:\n",
    "        meaning = dfDataCorrespondance[(dfDataCorrespondance[\"Nom de la variable\"] == column) & (dfDataCorrespondance[\"code\"] == val)][\"Signification\"].values[0]\n",
    "    except IndexError:\n",
    "        meaning = val\n",
    "    return meaning\n",
    "\n",
    "def mapCorrespondances(vals, column):\n",
    "    \"\"\"\n",
    "    Returns the correspondance of the numerical val for the corresponding column.\n",
    "    \"\"\"\n",
    "    return [findCorrespondance(val, column) for val in vals]\n",
    "\n",
    "def findDescription(column):\n",
    "    \"\"\"\n",
    "    Returns the description of the column signification.\n",
    "    \"\"\"\n",
    "    return dfDataNames[(dfDataNames[\"Nom de la variable\"] == column)][\"Libellé de la variable\"].values[0]\n",
    "\n",
    "def mapDescription(columns):\n",
    "    \"\"\"\n",
    "    Returns the description of the columns signification.\n",
    "    \"\"\"\n",
    "    return [findDescription(column) for column in columns]"
   ]
  },
  {
   "cell_type": "markdown",
   "metadata": {},
   "source": [
    "### Data analysis and visualization"
   ]
  },
  {
   "cell_type": "markdown",
   "metadata": {},
   "source": [
    "#### BMI study"
   ]
  },
  {
   "cell_type": "code",
   "execution_count": null,
   "metadata": {
    "collapsed": true
   },
   "outputs": [],
   "source": []
  },
  {
   "cell_type": "markdown",
   "metadata": {},
   "source": [
    "#### Interest in food"
   ]
  },
  {
   "cell_type": "code",
   "execution_count": null,
   "metadata": {
    "collapsed": true
   },
   "outputs": [],
   "source": []
  },
  {
   "cell_type": "markdown",
   "metadata": {},
   "source": [
    "#### Displaying functions"
   ]
  },
  {
   "cell_type": "code",
   "execution_count": 9,
   "metadata": {
    "collapsed": true
   },
   "outputs": [],
   "source": [
    "def plotBar(table, x, y, index=None):\n",
    "    \"\"\"\n",
    "    Plots a stacked normalized bar plot from table. Axis x is x, axis y is y, count is column index.\n",
    "    \"\"\"\n",
    "    if index == None: index = y\n",
    "    consos = table[[x, y, index]].groupby([x, y]).count().unstack(level=1)[index]\n",
    "    consos = consos.swapaxes(0,1)\n",
    "    consos = consos / consos.sum(axis=0)\n",
    "    consos = consos.swapaxes(0,1)\n",
    "    consos.index = mapCorrespondances(consos.index, x)\n",
    "    consos.columns = mapCorrespondances(consos.columns, y)\n",
    "    consos.plot.bar(stacked=True)\n",
    "    plt.show()\n",
    "\n",
    "def plotScatter(table, col1, col2):\n",
    "    \"\"\"\n",
    "    Scatters columns col1 and columns col2 of table\n",
    "    \"\"\"\n",
    "    data = table[[col1, col2]].values\n",
    "    plt.scatter(data[:,0], data[:,1])\n",
    "    plt.show()\n",
    "    \n",
    "def getBinsFunc(x, nbins):\n",
    "    \"\"\"\n",
    "    Create a function mapping x values into a categorical \n",
    "    \"\"\"\n",
    "    xmin = np.min(x)\n",
    "    xmax = np.max(x) * 1.01\n",
    "    return lambda v: np.int16(nbins * (v - xmin) / (xmax - xmin)) * (xmax - xmin) + xmin\n",
    "    \n",
    "def plotScatterCateX(table, x, y, index, nbins):\n",
    "    \"\"\"\n",
    "    Plots a stacked normalized bar plot from table. Axis x is x, axis y is y, count is column index.\n",
    "    Column index is filtered into nbins bins.\n",
    "    \"\"\"\n",
    "    consos = table[[x, y, index]]\n",
    "    f = getBinsFunc(consos[y], nbins)\n",
    "    consos[y] = f(consos[y])\n",
    "    plotBar(consos, x, y, index)\n",
    "\n",
    "def plotMeanValues(table, features, className, mincount=50):\n",
    "    \"\"\"\n",
    "    Plot a normalized stacked bar chart of mean values of each features in features for each class according to \n",
    "    class name. Consider only classes with at least mincount elements.\n",
    "    \"\"\"\n",
    "    featuresNames = mapDescription(features)\n",
    "\n",
    "    means = table.groupby(className).filter(lambda x: len(x) > mincount).groupby(className).mean()[features]\n",
    "    means.columns = featuresNames\n",
    "    means /= means.sum(axis=0)\n",
    "    means = means.swapaxes(0, 1)\n",
    "    means.columns = mapCorrespondances(means.columns, className)\n",
    "    means.plot.bar(stacked=True, figsize=figsize)\n",
    "    plt.show()"
   ]
  },
  {
   "cell_type": "code",
   "execution_count": null,
   "metadata": {
    "collapsed": true
   },
   "outputs": [],
   "source": []
  },
  {
   "cell_type": "code",
   "execution_count": null,
   "metadata": {
    "collapsed": true
   },
   "outputs": [],
   "source": []
  }
 ],
 "metadata": {
  "kernelspec": {
   "display_name": "Python 3",
   "language": "python",
   "name": "python3"
  },
  "language_info": {
   "codemirror_mode": {
    "name": "ipython",
    "version": 3
   },
   "file_extension": ".py",
   "mimetype": "text/x-python",
   "name": "python",
   "nbconvert_exporter": "python",
   "pygments_lexer": "ipython3",
   "version": "3.6.6"
  }
 },
 "nbformat": 4,
 "nbformat_minor": 2
}
