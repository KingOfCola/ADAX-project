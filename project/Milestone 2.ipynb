{
 "cells": [
  {
   "cell_type": "markdown",
   "metadata": {},
   "source": [
    "# Food: a relevant marker of social inequalities?"
   ]
  },
  {
   "cell_type": "code",
   "execution_count": null,
   "metadata": {},
   "outputs": [],
   "source": [
    "# Imports\n",
    "from urllib.request import urlopen\n",
    "import pandas as pd\n",
    "import json\n",
    "import matplotlib.pyplot as plt\n",
    "import numpy as np\n",
    "\n",
    "import os\n",
    "import pyspark\n",
    "from pyspark.sql import *\n",
    "from pyspark.sql.functions import *"
   ]
  },
  {
   "cell_type": "markdown",
   "metadata": {},
   "source": [
    "## Study of OpenFoodFact"
   ]
  },
  {
   "cell_type": "markdown",
   "metadata": {},
   "source": [
    "### Data cleaning"
   ]
  },
  {
   "cell_type": "code",
   "execution_count": null,
   "metadata": {},
   "outputs": [],
   "source": [
    "# Data\n",
    "OFF_API_PATH = \"https://world.openfoodfacts.org/{}.json\"\n",
    "OFF_API_QUERY_PATH = \"https://world.openfoodfacts.org/cgi/search.pl?{}&page_size=1000&action=process&json=1\""
   ]
  },
  {
   "cell_type": "markdown",
   "metadata": {},
   "source": [
    "### Data formating"
   ]
  },
  {
   "cell_type": "code",
   "execution_count": null,
   "metadata": {},
   "outputs": [],
   "source": []
  },
  {
   "cell_type": "markdown",
   "metadata": {},
   "source": [
    "### Data analysis and visualization"
   ]
  },
  {
   "cell_type": "code",
   "execution_count": null,
   "metadata": {},
   "outputs": [],
   "source": []
  },
  {
   "cell_type": "markdown",
   "metadata": {},
   "source": [
    "## Study of INCA 2"
   ]
  },
  {
   "cell_type": "markdown",
   "metadata": {},
   "source": [
    "### Data cleaning"
   ]
  },
  {
   "cell_type": "code",
   "execution_count": null,
   "metadata": {},
   "outputs": [],
   "source": [
    "# Data\n",
    "\n",
    "# Comment/Uncomment the line depending on your computer\n",
    "encoding = \"ansi\" # Windows\n",
    "#encoding = \"latin\" # Mac\n",
    "\n",
    "\n",
    "dfConso = pd.read_csv(\"../data/Table_conso.csv\", sep=\";\", encoding=encoding)\n",
    "dfIndiv = pd.read_csv(\"../data/Table_indiv.csv\", sep=\";\", encoding=encoding)\n",
    "dfCapiCA = pd.read_csv(\"../data/Table_capi_ca.csv\", sep=\";\", encoding=encoding)\n",
    "dfCarnetCA = pd.read_csv(\"../data/Table_carnet_ca_1.csv\", sep=\";\", encoding=encoding)\n",
    "dfIndivCA = pd.read_csv(\"../data/Table_indiv_ca.csv\", sep=\";\", encoding=encoding)\n",
    "dfIndnut = pd.read_csv(\"../data/Table_indnut.csv\", sep=\";\", encoding=encoding)\n",
    "dfMenage = pd.read_csv(\"../data/Table_menage_1.csv\", sep=\";\", encoding=encoding)\n",
    "dfRepas = pd.read_csv(\"../data/Table_repas.csv\", sep=\";\", encoding=encoding)\n",
    "dfNomenclature = pd.read_csv(\"../data/Nomenclature_3.csv\", sep=\";\", encoding=encoding)\n",
    "dfCorrespondance = pd.read_csv(\"../data/correspondance_reponses.csv\", sep=\";\", encoding=encoding)\n",
    "dfDataNames = pd.read_csv(\"../data/Data_names_all.csv\", sep=\";\", encoding=encoding)"
   ]
  },
  {
   "cell_type": "markdown",
   "metadata": {},
   "source": [
    "### Data formating"
   ]
  },
  {
   "cell_type": "code",
   "execution_count": null,
   "metadata": {},
   "outputs": [],
   "source": []
  },
  {
   "cell_type": "markdown",
   "metadata": {},
   "source": [
    "### Data analysis and visualization"
   ]
  },
  {
   "cell_type": "markdown",
   "metadata": {},
   "source": [
    "#### BMI study"
   ]
  },
  {
   "cell_type": "code",
   "execution_count": null,
   "metadata": {},
   "outputs": [],
   "source": []
  },
  {
   "cell_type": "markdown",
   "metadata": {},
   "source": [
    "#### Interest in food"
   ]
  },
  {
   "cell_type": "code",
   "execution_count": null,
   "metadata": {},
   "outputs": [],
   "source": []
  },
  {
   "cell_type": "code",
   "execution_count": null,
   "metadata": {},
   "outputs": [],
   "source": []
  },
  {
   "cell_type": "code",
   "execution_count": null,
   "metadata": {},
   "outputs": [],
   "source": []
  },
  {
   "cell_type": "code",
   "execution_count": null,
   "metadata": {},
   "outputs": [],
   "source": []
  }
 ],
 "metadata": {
  "kernelspec": {
   "display_name": "Python [default]",
   "language": "python",
   "name": "python3"
  },
  "language_info": {
   "codemirror_mode": {
    "name": "ipython",
    "version": 3
   },
   "file_extension": ".py",
   "mimetype": "text/x-python",
   "name": "python",
   "nbconvert_exporter": "python",
   "pygments_lexer": "ipython3",
   "version": "3.6.2"
  }
 },
 "nbformat": 4,
 "nbformat_minor": 2
}
